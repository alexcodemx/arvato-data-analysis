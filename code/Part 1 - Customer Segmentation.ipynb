{
 "cells": [
  {
   "cell_type": "markdown",
   "metadata": {},
   "source": [
    "# Capstone Project: Create a Customer Segmentation Report for Arvato Financial Services\n",
    "\n",
    "In this project, you will analyze demographics data for customers of a mail-order sales company in Germany, comparing it against demographics information for the general population. You'll use unsupervised learning techniques to perform customer segmentation, identifying the parts of the population that best describe the core customer base of the company. Then, you'll apply what you've learned on a third dataset with demographics information for targets of a marketing campaign for the company, and use a model to predict which individuals are most likely to convert into becoming customers for the company. The data that you will use has been provided by our partners at Bertelsmann Arvato Analytics, and represents a real-life data science task.\n",
    "\n",
    "If you completed the first term of this program, you will be familiar with the first part of this project, from the unsupervised learning project. The versions of those two datasets used in this project will include many more features and has not been pre-cleaned. You are also free to choose whatever approach you'd like to analyzing the data rather than follow pre-determined steps. In your work on this project, make sure that you carefully document your steps and decisions, since your main deliverable for this project will be a blog post reporting your findings."
   ]
  },
  {
   "cell_type": "code",
   "execution_count": 3,
   "metadata": {},
   "outputs": [],
   "source": [
    "# import libraries here; add more as necessary\n",
    "import numpy as np\n",
    "import pandas as pd\n",
    "import matplotlib.pyplot as plt\n",
    "from scripts.preprocessing import data_preprocessing, principal_components\n",
    "\n",
    "# magic word for producing visualizations in notebook\n",
    "%matplotlib inline"
   ]
  },
  {
   "cell_type": "markdown",
   "metadata": {},
   "source": [
    "## Part 1: Customer Segmentation Report\n",
    "\n",
    "The main bulk of your analysis will come in this part of the project. Here, you should use unsupervised learning techniques to describe the relationship between the demographics of the company's existing customers and the general population of Germany. By the end of this part, you should be able to describe parts of the general population that are more likely to be part of the mail-order company's main customer base, and which parts of the general population are less so."
   ]
  },
  {
   "cell_type": "code",
   "execution_count": 2,
   "metadata": {},
   "outputs": [],
   "source": [
    "# load in the data\n",
    "azdias = pd.read_csv('../files/Udacity_AZDIAS_052018.csv', sep=';', dtype='object')\n",
    "customers = pd.read_csv('../files/Udacity_CUSTOMERS_052018.csv', sep=';', dtype='object')"
   ]
  },
  {
   "cell_type": "code",
   "execution_count": 4,
   "metadata": {},
   "outputs": [
    {
     "name": "stdout",
     "output_type": "stream",
     "text": [
      "Old Dataframe Shape: (891221, 366)\n",
      "\n",
      "Succesfully removed 61 columns!\n",
      "BIP_FLAG was not found in the DF\n",
      "CAMEO_DEUINTL_2015 was not found in the DF\n",
      "D19_KK_KUNDENTYP was not found in the DF\n",
      "GEOSCORE_KLS7 was not found in the DF\n",
      "GEOSCORE_KLS7 was not found in the DF\n",
      "HAUSHALTSSTRUKTUR was not found in the DF\n",
      "HAUSHALTSSTRUKTUR was not found in the DF\n",
      "KBA13_CCM_1400_2500 was not found in the DF\n",
      "OST_WEST_KZ was not found in the DF\n",
      "SOHO_FLAG was not found in the DF\n",
      "WACHSTUMSGEBIET_NB was not found in the DF\n",
      "WACHSTUMSGEBIET_NB was not found in the DF\n",
      "The columns below threshold: ['TITEL_KZ'] were removed.\n",
      "Old Dataframe Shape: (191652, 369)\n",
      "\n",
      "Succesfully removed 64 columns!\n",
      "BIP_FLAG was not found in the DF\n",
      "CAMEO_DEUINTL_2015 was not found in the DF\n",
      "D19_KK_KUNDENTYP was not found in the DF\n",
      "GEOSCORE_KLS7 was not found in the DF\n",
      "GEOSCORE_KLS7 was not found in the DF\n",
      "HAUSHALTSSTRUKTUR was not found in the DF\n",
      "HAUSHALTSSTRUKTUR was not found in the DF\n",
      "KBA13_CCM_1400_2500 was not found in the DF\n",
      "OST_WEST_KZ was not found in the DF\n",
      "SOHO_FLAG was not found in the DF\n",
      "WACHSTUMSGEBIET_NB was not found in the DF\n",
      "WACHSTUMSGEBIET_NB was not found in the DF\n",
      "The columns below threshold: ['TITEL_KZ'] were removed.\n",
      "Variance Explained by all 101 principal components:  0.6991107432882346\n",
      "Variance Explained by all 101 principal components:  0.7020392975779165\n"
     ]
    }
   ],
   "source": [
    "# Preprocess data\n",
    "azdias_prep = data_preprocessing(azdias)\n",
    "customers_prep = data_preprocessing(customers)\n",
    "\n",
    "# Get Principal Components \n",
    "\n",
    "azdias_df, azdias_pca = principal_components(azdias_prep)\n",
    "customer_df, customer_pca = principal_components(customers_prep)"
   ]
  },
  {
   "cell_type": "markdown",
   "metadata": {},
   "source": [
    "## Clustering with KMeans"
   ]
  },
  {
   "cell_type": "code",
   "execution_count": 14,
   "metadata": {},
   "outputs": [],
   "source": [
    "from sklearn.cluster import KMeans\n",
    "\n",
    "tot_components = azdias_df.shape[1]\n",
    "n_clusters = 10\n",
    "n_init = 10\n",
    "max_iter = 300\n",
    "tol = 0.0001\n",
    "random_state = 2018\n",
    "\n",
    "kMeans_inertia = pd.DataFrame(data=[],index=range(1,10), \\\n",
    "                              columns=['inertia'])\n",
    "for n_clusters in range(1,10):\n",
    "    kmeans = KMeans(n_clusters=n_clusters, n_init=n_init, \\\n",
    "                max_iter=max_iter, tol=tol, random_state=random_state)\n",
    "\n",
    "    cutoff = tot_components-1\n",
    "    kmeans.fit(azdias_df.loc[:,0:cutoff])\n",
    "    kMeans_inertia.loc[n_clusters] = kmeans.inertia_"
   ]
  },
  {
   "cell_type": "code",
   "execution_count": 16,
   "metadata": {},
   "outputs": [
    {
     "data": {
      "image/png": "[encoded data removed]",
      "text/plain": [
       "<Figure size 1080x360 with 1 Axes>"
      ]
     },
     "metadata": {
      "needs_background": "light"
     },
     "output_type": "display_data"
    }
   ],
   "source": [
    "plt.figure(figsize=(15,5))\n",
    "plt.plot(kMeans_inertia,marker='o',linestyle='--')\n",
    "plt.title(\"WCSS\")\n",
    "plt.xlabel(\"Number of clusters\")\n",
    "plt.ylabel(\"Sum of Sqaured Distances\")\n",
    "plt.show()"
   ]
  },
  {
   "cell_type": "code",
   "execution_count": 17,
   "metadata": {},
   "outputs": [
    {
     "name": "stdout",
     "output_type": "stream",
     "text": [
      "WCSS difference between cluster 1 and 2: 6.94%\n",
      "WCSS difference between cluster 2 and 3: 4.1%\n",
      "WCSS difference between cluster 3 and 4: 2.76%\n",
      "WCSS difference between cluster 4 and 5: 2.35%\n",
      "WCSS difference between cluster 5 and 6: 1.83%\n",
      "WCSS difference between cluster 6 and 7: 1.26%\n",
      "WCSS difference between cluster 7 and 8: 1.16%\n",
      "WCSS difference between cluster 8 and 9: 1.08%\n"
     ]
    }
   ],
   "source": [
    "# The right amount of clusters is 7. Starting from that point there no significante improvement.\n",
    "\n",
    "for i in range(kMeans_inertia.shape[0]-1):\n",
    "    print(\"WCSS difference between cluster {} and {}: {}%\".\\\n",
    "          format(i+1,i+2,\n",
    "                 round((kMeans_inertia.iloc[i,0] - kMeans_inertia.iloc[i+1,0])/kMeans_inertia.iloc[i,0]*100,2)) )"
   ]
  },
  {
   "cell_type": "code",
   "execution_count": 18,
   "metadata": {},
   "outputs": [],
   "source": [
    "def kmeans_clustering(n_clusters, base_df, predict_df):\n",
    "    '''\n",
    "        Get the clusters for the dataframe\n",
    "        input:\n",
    "            n_clusters - Number of clusters\n",
    "            base_df - Base df for generating model\n",
    "            predict_dt - Dataframe to predict with model\n",
    "        output:\n",
    "            base_pred - Predicted values for base df\n",
    "            predict_df - Predicted values for target df\n",
    "    '''\n",
    "    n_clusters = n_clusters\n",
    "    n_init = 10\n",
    "    max_iter = 300\n",
    "    tol = 0.0001\n",
    "    random_state = 2018\n",
    "\n",
    "    kmeans = KMeans(n_clusters=n_clusters, n_init=n_init, \\\n",
    "                    max_iter=max_iter, tol=tol, random_state=random_state)\n",
    "    cutoff = tot_components-1\n",
    "    model = kmeans.fit(base_df.loc[:,0:cutoff])\n",
    "    \n",
    "    # Predict values\n",
    "    base_pred =  model.predict(base_df)\n",
    "    predict_df = model.predict(predict_df)\n",
    "    \n",
    "    return base_pred, predict_df, model"
   ]
  },
  {
   "cell_type": "code",
   "execution_count": 20,
   "metadata": {},
   "outputs": [],
   "source": [
    "# Get predictions for azdias and customers\n",
    "\n",
    "azdias_kmeans, customers_kmeans, model = kmeans_clustering(7, azdias_df, customer_df)"
   ]
  },
  {
   "cell_type": "markdown",
   "metadata": {},
   "source": [
    "## Compare Clusters"
   ]
  },
  {
   "cell_type": "code",
   "execution_count": 34,
   "metadata": {},
   "outputs": [
    {
     "data": {
      "text/html": [
       "<div>\n",
       "<style scoped>\n",
       "    .dataframe tbody tr th:only-of-type {\n",
       "        vertical-align: middle;\n",
       "    }\n",
       "\n",
       "    .dataframe tbody tr th {\n",
       "        vertical-align: top;\n",
       "    }\n",
       "\n",
       "    .dataframe thead th {\n",
       "        text-align: right;\n",
       "    }\n",
       "</style>\n",
       "<table border=\"1\" class=\"dataframe\">\n",
       "  <thead>\n",
       "    <tr style=\"text-align: right;\">\n",
       "      <th></th>\n",
       "      <th>Cluster</th>\n",
       "      <th>Population (%)</th>\n",
       "      <th>Customers (%)</th>\n",
       "      <th>Difference</th>\n",
       "    </tr>\n",
       "  </thead>\n",
       "  <tbody>\n",
       "    <tr>\n",
       "      <th>4</th>\n",
       "      <td>4</td>\n",
       "      <td>10.990316</td>\n",
       "      <td>2.490973</td>\n",
       "      <td>8.499342</td>\n",
       "    </tr>\n",
       "    <tr>\n",
       "      <th>2</th>\n",
       "      <td>2</td>\n",
       "      <td>16.062122</td>\n",
       "      <td>10.850396</td>\n",
       "      <td>5.211726</td>\n",
       "    </tr>\n",
       "    <tr>\n",
       "      <th>0</th>\n",
       "      <td>5</td>\n",
       "      <td>18.189316</td>\n",
       "      <td>16.037401</td>\n",
       "      <td>2.151914</td>\n",
       "    </tr>\n",
       "    <tr>\n",
       "      <th>6</th>\n",
       "      <td>0</td>\n",
       "      <td>10.537117</td>\n",
       "      <td>8.791455</td>\n",
       "      <td>1.745662</td>\n",
       "    </tr>\n",
       "    <tr>\n",
       "      <th>5</th>\n",
       "      <td>1</td>\n",
       "      <td>10.735497</td>\n",
       "      <td>12.214326</td>\n",
       "      <td>-1.478829</td>\n",
       "    </tr>\n",
       "    <tr>\n",
       "      <th>1</th>\n",
       "      <td>6</td>\n",
       "      <td>17.877721</td>\n",
       "      <td>20.041012</td>\n",
       "      <td>-2.163291</td>\n",
       "    </tr>\n",
       "    <tr>\n",
       "      <th>3</th>\n",
       "      <td>3</td>\n",
       "      <td>15.607913</td>\n",
       "      <td>29.574437</td>\n",
       "      <td>-13.966524</td>\n",
       "    </tr>\n",
       "  </tbody>\n",
       "</table>\n",
       "</div>"
      ],
      "text/plain": [
       "   Cluster  Population (%)  Customers (%)  Difference\n",
       "4        4       10.990316       2.490973    8.499342\n",
       "2        2       16.062122      10.850396    5.211726\n",
       "0        5       18.189316      16.037401    2.151914\n",
       "6        0       10.537117       8.791455    1.745662\n",
       "5        1       10.735497      12.214326   -1.478829\n",
       "1        6       17.877721      20.041012   -2.163291\n",
       "3        3       15.607913      29.574437  -13.966524"
      ]
     },
     "execution_count": 34,
     "metadata": {},
     "output_type": "execute_result"
    }
   ],
   "source": [
    "df_comparison = (pd.Series(azdias_kmeans).value_counts()/azdias_kmeans.shape[0]*100)\\\n",
    "    .to_frame(name=\"Population (%)\").reset_index().rename(columns={'index':'Cluster'}).\\\n",
    "    merge(\n",
    "    (pd.Series(customers_kmeans).value_counts()/customers_kmeans.shape[0]*100)\\\n",
    "    .to_frame(name=\"Customers (%)\").reset_index().rename(columns={'index':'Cluster'}), on=['Cluster'])\n",
    "df_comparison[\"Difference\"] = (df_comparison['Population (%)']-df_comparison['Customers (%)'])\n",
    "df_comparison.sort_values(by='Difference', ascending=False)"
   ]
  },
  {
   "cell_type": "code",
   "execution_count": null,
   "metadata": {},
   "outputs": [],
   "source": []
  }
 ],
 "metadata": {
  "kernelspec": {
   "display_name": "Python 3",
   "language": "python",
   "name": "python3"
  },
  "language_info": {
   "codemirror_mode": {
    "name": "ipython",
    "version": 3
   },
   "file_extension": ".py",
   "mimetype": "text/x-python",
   "name": "python",
   "nbconvert_exporter": "python",
   "pygments_lexer": "ipython3",
   "version": "3.8.2"
  }
 },
 "nbformat": 4,
 "nbformat_minor": 2
}
