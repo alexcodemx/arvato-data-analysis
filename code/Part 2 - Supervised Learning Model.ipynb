{
 "cells": [
  {
   "cell_type": "markdown",
   "metadata": {},
   "source": [
    "# Capstone Project: Create a Customer Segmentation Report for Arvato Financial Services\n",
    "\n",
    "In this project, you will analyze demographics data for customers of a mail-order sales company in Germany, comparing it against demographics information for the general population. You'll use unsupervised learning techniques to perform customer segmentation, identifying the parts of the population that best describe the core customer base of the company. Then, you'll apply what you've learned on a third dataset with demographics information for targets of a marketing campaign for the company, and use a model to predict which individuals are most likely to convert into becoming customers for the company. The data that you will use has been provided by our partners at Bertelsmann Arvato Analytics, and represents a real-life data science task.\n",
    "\n",
    "If you completed the first term of this program, you will be familiar with the first part of this project, from the unsupervised learning project. The versions of those two datasets used in this project will include many more features and has not been pre-cleaned. You are also free to choose whatever approach you'd like to analyzing the data rather than follow pre-determined steps. In your work on this project, make sure that you carefully document your steps and decisions, since your main deliverable for this project will be a blog post reporting your findings."
   ]
  },
  {
   "cell_type": "code",
   "execution_count": 1,
   "metadata": {},
   "outputs": [],
   "source": [
    "# import libraries here; add more as necessary\n",
    "import time\n",
    "import numpy as np\n",
    "import pandas as pd\n",
    "import matplotlib.pyplot as plt\n",
    "import seaborn as sns\n",
    "from joblib import dump, load\n",
    "from scripts.preprocessing import data_preprocessing, principal_components\n",
    "from imblearn.over_sampling import SMOTE\n",
    "\n",
    "# magic word for producing visualizations in notebook\n",
    "%matplotlib inline"
   ]
  },
  {
   "cell_type": "markdown",
   "metadata": {},
   "source": [
    "## Part 2: Supervised Learning Model\n",
    "\n",
    "Now that you've found which parts of the population are more likely to be customers of the mail-order company, it's time to build a prediction model. Each of the rows in the \"MAILOUT\" data files represents an individual that was targeted for a mailout campaign. Ideally, we should be able to use the demographic information from each individual to decide whether or not it will be worth it to include that person in the campaign.\n",
    "\n",
    "The \"MAILOUT\" data has been split into two approximately equal parts, each with almost 43 000 data rows. In this part, you can verify your model with the \"TRAIN\" partition, which includes a column, \"RESPONSE\", that states whether or not a person became a customer of the company following the campaign. In the next part, you'll need to create predictions on the \"TEST\" partition, where the \"RESPONSE\" column has been withheld."
   ]
  },
  {
   "cell_type": "code",
   "execution_count": 2,
   "metadata": {},
   "outputs": [
    {
     "data": {
      "text/html": [
       "<div>\n",
       "<style scoped>\n",
       "    .dataframe tbody tr th:only-of-type {\n",
       "        vertical-align: middle;\n",
       "    }\n",
       "\n",
       "    .dataframe tbody tr th {\n",
       "        vertical-align: top;\n",
       "    }\n",
       "\n",
       "    .dataframe thead th {\n",
       "        text-align: right;\n",
       "    }\n",
       "</style>\n",
       "<table border=\"1\" class=\"dataframe\">\n",
       "  <thead>\n",
       "    <tr style=\"text-align: right;\">\n",
       "      <th></th>\n",
       "      <th>LNR</th>\n",
       "      <th>AGER_TYP</th>\n",
       "      <th>AKT_DAT_KL</th>\n",
       "      <th>ALTER_HH</th>\n",
       "      <th>ALTER_KIND1</th>\n",
       "      <th>ALTER_KIND2</th>\n",
       "      <th>ALTER_KIND3</th>\n",
       "      <th>ALTER_KIND4</th>\n",
       "      <th>ALTERSKATEGORIE_FEIN</th>\n",
       "      <th>ANZ_HAUSHALTE_AKTIV</th>\n",
       "      <th>...</th>\n",
       "      <th>VK_DHT4A</th>\n",
       "      <th>VK_DISTANZ</th>\n",
       "      <th>VK_ZG11</th>\n",
       "      <th>W_KEIT_KIND_HH</th>\n",
       "      <th>WOHNDAUER_2008</th>\n",
       "      <th>WOHNLAGE</th>\n",
       "      <th>ZABEOTYP</th>\n",
       "      <th>RESPONSE</th>\n",
       "      <th>ANREDE_KZ</th>\n",
       "      <th>ALTERSKATEGORIE_GROB</th>\n",
       "    </tr>\n",
       "  </thead>\n",
       "  <tbody>\n",
       "    <tr>\n",
       "      <th>0</th>\n",
       "      <td>1763</td>\n",
       "      <td>2</td>\n",
       "      <td>1</td>\n",
       "      <td>8</td>\n",
       "      <td>NaN</td>\n",
       "      <td>NaN</td>\n",
       "      <td>NaN</td>\n",
       "      <td>NaN</td>\n",
       "      <td>8</td>\n",
       "      <td>15</td>\n",
       "      <td>...</td>\n",
       "      <td>5</td>\n",
       "      <td>2</td>\n",
       "      <td>1</td>\n",
       "      <td>6</td>\n",
       "      <td>9</td>\n",
       "      <td>3</td>\n",
       "      <td>3</td>\n",
       "      <td>0</td>\n",
       "      <td>2</td>\n",
       "      <td>4</td>\n",
       "    </tr>\n",
       "    <tr>\n",
       "      <th>1</th>\n",
       "      <td>1771</td>\n",
       "      <td>1</td>\n",
       "      <td>4</td>\n",
       "      <td>13</td>\n",
       "      <td>NaN</td>\n",
       "      <td>NaN</td>\n",
       "      <td>NaN</td>\n",
       "      <td>NaN</td>\n",
       "      <td>13</td>\n",
       "      <td>1</td>\n",
       "      <td>...</td>\n",
       "      <td>1</td>\n",
       "      <td>2</td>\n",
       "      <td>1</td>\n",
       "      <td>4</td>\n",
       "      <td>9</td>\n",
       "      <td>7</td>\n",
       "      <td>1</td>\n",
       "      <td>0</td>\n",
       "      <td>2</td>\n",
       "      <td>3</td>\n",
       "    </tr>\n",
       "    <tr>\n",
       "      <th>2</th>\n",
       "      <td>1776</td>\n",
       "      <td>1</td>\n",
       "      <td>1</td>\n",
       "      <td>9</td>\n",
       "      <td>NaN</td>\n",
       "      <td>NaN</td>\n",
       "      <td>NaN</td>\n",
       "      <td>NaN</td>\n",
       "      <td>7</td>\n",
       "      <td>0</td>\n",
       "      <td>...</td>\n",
       "      <td>6</td>\n",
       "      <td>4</td>\n",
       "      <td>2</td>\n",
       "      <td>NaN</td>\n",
       "      <td>9</td>\n",
       "      <td>2</td>\n",
       "      <td>3</td>\n",
       "      <td>0</td>\n",
       "      <td>1</td>\n",
       "      <td>4</td>\n",
       "    </tr>\n",
       "    <tr>\n",
       "      <th>3</th>\n",
       "      <td>1460</td>\n",
       "      <td>2</td>\n",
       "      <td>1</td>\n",
       "      <td>6</td>\n",
       "      <td>NaN</td>\n",
       "      <td>NaN</td>\n",
       "      <td>NaN</td>\n",
       "      <td>NaN</td>\n",
       "      <td>6</td>\n",
       "      <td>4</td>\n",
       "      <td>...</td>\n",
       "      <td>8</td>\n",
       "      <td>11</td>\n",
       "      <td>11</td>\n",
       "      <td>6</td>\n",
       "      <td>9</td>\n",
       "      <td>1</td>\n",
       "      <td>3</td>\n",
       "      <td>0</td>\n",
       "      <td>2</td>\n",
       "      <td>4</td>\n",
       "    </tr>\n",
       "    <tr>\n",
       "      <th>4</th>\n",
       "      <td>1783</td>\n",
       "      <td>2</td>\n",
       "      <td>1</td>\n",
       "      <td>9</td>\n",
       "      <td>NaN</td>\n",
       "      <td>NaN</td>\n",
       "      <td>NaN</td>\n",
       "      <td>NaN</td>\n",
       "      <td>9</td>\n",
       "      <td>53</td>\n",
       "      <td>...</td>\n",
       "      <td>2</td>\n",
       "      <td>2</td>\n",
       "      <td>1</td>\n",
       "      <td>6</td>\n",
       "      <td>9</td>\n",
       "      <td>3</td>\n",
       "      <td>3</td>\n",
       "      <td>0</td>\n",
       "      <td>1</td>\n",
       "      <td>3</td>\n",
       "    </tr>\n",
       "    <tr>\n",
       "      <th>...</th>\n",
       "      <td>...</td>\n",
       "      <td>...</td>\n",
       "      <td>...</td>\n",
       "      <td>...</td>\n",
       "      <td>...</td>\n",
       "      <td>...</td>\n",
       "      <td>...</td>\n",
       "      <td>...</td>\n",
       "      <td>...</td>\n",
       "      <td>...</td>\n",
       "      <td>...</td>\n",
       "      <td>...</td>\n",
       "      <td>...</td>\n",
       "      <td>...</td>\n",
       "      <td>...</td>\n",
       "      <td>...</td>\n",
       "      <td>...</td>\n",
       "      <td>...</td>\n",
       "      <td>...</td>\n",
       "      <td>...</td>\n",
       "      <td>...</td>\n",
       "    </tr>\n",
       "    <tr>\n",
       "      <th>42957</th>\n",
       "      <td>66338</td>\n",
       "      <td>2</td>\n",
       "      <td>1</td>\n",
       "      <td>0</td>\n",
       "      <td>NaN</td>\n",
       "      <td>NaN</td>\n",
       "      <td>NaN</td>\n",
       "      <td>NaN</td>\n",
       "      <td>10</td>\n",
       "      <td>1</td>\n",
       "      <td>...</td>\n",
       "      <td>1</td>\n",
       "      <td>1</td>\n",
       "      <td>1</td>\n",
       "      <td>4</td>\n",
       "      <td>8</td>\n",
       "      <td>7</td>\n",
       "      <td>1</td>\n",
       "      <td>0</td>\n",
       "      <td>1</td>\n",
       "      <td>4</td>\n",
       "    </tr>\n",
       "    <tr>\n",
       "      <th>42958</th>\n",
       "      <td>67629</td>\n",
       "      <td>-1</td>\n",
       "      <td>1</td>\n",
       "      <td>0</td>\n",
       "      <td>NaN</td>\n",
       "      <td>NaN</td>\n",
       "      <td>NaN</td>\n",
       "      <td>NaN</td>\n",
       "      <td>14</td>\n",
       "      <td>1</td>\n",
       "      <td>...</td>\n",
       "      <td>1</td>\n",
       "      <td>1</td>\n",
       "      <td>1</td>\n",
       "      <td>5</td>\n",
       "      <td>9</td>\n",
       "      <td>7</td>\n",
       "      <td>1</td>\n",
       "      <td>0</td>\n",
       "      <td>1</td>\n",
       "      <td>3</td>\n",
       "    </tr>\n",
       "    <tr>\n",
       "      <th>42959</th>\n",
       "      <td>68273</td>\n",
       "      <td>1</td>\n",
       "      <td>1</td>\n",
       "      <td>16</td>\n",
       "      <td>NaN</td>\n",
       "      <td>NaN</td>\n",
       "      <td>NaN</td>\n",
       "      <td>NaN</td>\n",
       "      <td>10</td>\n",
       "      <td>2</td>\n",
       "      <td>...</td>\n",
       "      <td>1</td>\n",
       "      <td>2</td>\n",
       "      <td>1</td>\n",
       "      <td>2</td>\n",
       "      <td>9</td>\n",
       "      <td>7</td>\n",
       "      <td>1</td>\n",
       "      <td>0</td>\n",
       "      <td>1</td>\n",
       "      <td>4</td>\n",
       "    </tr>\n",
       "    <tr>\n",
       "      <th>42960</th>\n",
       "      <td>68581</td>\n",
       "      <td>2</td>\n",
       "      <td>1</td>\n",
       "      <td>18</td>\n",
       "      <td>NaN</td>\n",
       "      <td>NaN</td>\n",
       "      <td>NaN</td>\n",
       "      <td>NaN</td>\n",
       "      <td>13</td>\n",
       "      <td>3</td>\n",
       "      <td>...</td>\n",
       "      <td>2</td>\n",
       "      <td>3</td>\n",
       "      <td>4</td>\n",
       "      <td>2</td>\n",
       "      <td>9</td>\n",
       "      <td>2</td>\n",
       "      <td>3</td>\n",
       "      <td>0</td>\n",
       "      <td>2</td>\n",
       "      <td>4</td>\n",
       "    </tr>\n",
       "    <tr>\n",
       "      <th>42961</th>\n",
       "      <td>69224</td>\n",
       "      <td>2</td>\n",
       "      <td>1</td>\n",
       "      <td>13</td>\n",
       "      <td>NaN</td>\n",
       "      <td>NaN</td>\n",
       "      <td>NaN</td>\n",
       "      <td>NaN</td>\n",
       "      <td>9</td>\n",
       "      <td>3</td>\n",
       "      <td>...</td>\n",
       "      <td>7</td>\n",
       "      <td>7</td>\n",
       "      <td>4</td>\n",
       "      <td>6</td>\n",
       "      <td>9</td>\n",
       "      <td>7</td>\n",
       "      <td>3</td>\n",
       "      <td>0</td>\n",
       "      <td>2</td>\n",
       "      <td>4</td>\n",
       "    </tr>\n",
       "  </tbody>\n",
       "</table>\n",
       "<p>42962 rows × 367 columns</p>\n",
       "</div>"
      ],
      "text/plain": [
       "         LNR AGER_TYP AKT_DAT_KL ALTER_HH ALTER_KIND1 ALTER_KIND2 ALTER_KIND3  \\\n",
       "0       1763        2          1        8         NaN         NaN         NaN   \n",
       "1       1771        1          4       13         NaN         NaN         NaN   \n",
       "2       1776        1          1        9         NaN         NaN         NaN   \n",
       "3       1460        2          1        6         NaN         NaN         NaN   \n",
       "4       1783        2          1        9         NaN         NaN         NaN   \n",
       "...      ...      ...        ...      ...         ...         ...         ...   \n",
       "42957  66338        2          1        0         NaN         NaN         NaN   \n",
       "42958  67629       -1          1        0         NaN         NaN         NaN   \n",
       "42959  68273        1          1       16         NaN         NaN         NaN   \n",
       "42960  68581        2          1       18         NaN         NaN         NaN   \n",
       "42961  69224        2          1       13         NaN         NaN         NaN   \n",
       "\n",
       "      ALTER_KIND4 ALTERSKATEGORIE_FEIN ANZ_HAUSHALTE_AKTIV  ... VK_DHT4A  \\\n",
       "0             NaN                    8                  15  ...        5   \n",
       "1             NaN                   13                   1  ...        1   \n",
       "2             NaN                    7                   0  ...        6   \n",
       "3             NaN                    6                   4  ...        8   \n",
       "4             NaN                    9                  53  ...        2   \n",
       "...           ...                  ...                 ...  ...      ...   \n",
       "42957         NaN                   10                   1  ...        1   \n",
       "42958         NaN                   14                   1  ...        1   \n",
       "42959         NaN                   10                   2  ...        1   \n",
       "42960         NaN                   13                   3  ...        2   \n",
       "42961         NaN                    9                   3  ...        7   \n",
       "\n",
       "      VK_DISTANZ VK_ZG11 W_KEIT_KIND_HH WOHNDAUER_2008 WOHNLAGE ZABEOTYP  \\\n",
       "0              2       1              6              9        3        3   \n",
       "1              2       1              4              9        7        1   \n",
       "2              4       2            NaN              9        2        3   \n",
       "3             11      11              6              9        1        3   \n",
       "4              2       1              6              9        3        3   \n",
       "...          ...     ...            ...            ...      ...      ...   \n",
       "42957          1       1              4              8        7        1   \n",
       "42958          1       1              5              9        7        1   \n",
       "42959          2       1              2              9        7        1   \n",
       "42960          3       4              2              9        2        3   \n",
       "42961          7       4              6              9        7        3   \n",
       "\n",
       "      RESPONSE ANREDE_KZ ALTERSKATEGORIE_GROB  \n",
       "0            0         2                    4  \n",
       "1            0         2                    3  \n",
       "2            0         1                    4  \n",
       "3            0         2                    4  \n",
       "4            0         1                    3  \n",
       "...        ...       ...                  ...  \n",
       "42957        0         1                    4  \n",
       "42958        0         1                    3  \n",
       "42959        0         1                    4  \n",
       "42960        0         2                    4  \n",
       "42961        0         2                    4  \n",
       "\n",
       "[42962 rows x 367 columns]"
      ]
     },
     "execution_count": 2,
     "metadata": {},
     "output_type": "execute_result"
    }
   ],
   "source": [
    "mailout_train = pd.read_csv('../files/Udacity_MAILOUT_052018_TRAIN.csv', sep=';', dtype=object)\n",
    "mailout_train"
   ]
  },
  {
   "cell_type": "markdown",
   "metadata": {},
   "source": [
    "### Check classes\n",
    "\n",
    "Classes are highly imbalanced. Over 98% of the classes fall into the '0' category. This may leady to predictions overfitting to this category."
   ]
  },
  {
   "cell_type": "code",
   "execution_count": 3,
   "metadata": {},
   "outputs": [
    {
     "data": {
      "text/html": [
       "<div>\n",
       "<style scoped>\n",
       "    .dataframe tbody tr th:only-of-type {\n",
       "        vertical-align: middle;\n",
       "    }\n",
       "\n",
       "    .dataframe tbody tr th {\n",
       "        vertical-align: top;\n",
       "    }\n",
       "\n",
       "    .dataframe thead th {\n",
       "        text-align: right;\n",
       "    }\n",
       "</style>\n",
       "<table border=\"1\" class=\"dataframe\">\n",
       "  <thead>\n",
       "    <tr style=\"text-align: right;\">\n",
       "      <th></th>\n",
       "      <th>CATEGORY</th>\n",
       "      <th>RESPONSE</th>\n",
       "    </tr>\n",
       "  </thead>\n",
       "  <tbody>\n",
       "    <tr>\n",
       "      <th>0</th>\n",
       "      <td>0</td>\n",
       "      <td>98.761696</td>\n",
       "    </tr>\n",
       "    <tr>\n",
       "      <th>1</th>\n",
       "      <td>1</td>\n",
       "      <td>1.238304</td>\n",
       "    </tr>\n",
       "  </tbody>\n",
       "</table>\n",
       "</div>"
      ],
      "text/plain": [
       "  CATEGORY   RESPONSE\n",
       "0        0  98.761696\n",
       "1        1   1.238304"
      ]
     },
     "execution_count": 3,
     "metadata": {},
     "output_type": "execute_result"
    }
   ],
   "source": [
    "dist = (mailout_train.RESPONSE.value_counts()/mailout_train.shape[0]*100).reset_index().rename(columns={\"index\":\"CATEGORY\"})\n",
    "dist"
   ]
  },
  {
   "cell_type": "code",
   "execution_count": 4,
   "metadata": {},
   "outputs": [
    {
     "data": {
      "text/plain": [
       "Text(0.5, 1.0, 'Category Distribution')"
      ]
     },
     "execution_count": 4,
     "metadata": {},
     "output_type": "execute_result"
    },
    {
     "data": {
      "image/png": "[encoded data removed]",
      "text/plain": [
       "<Figure size 432x288 with 1 Axes>"
      ]
     },
     "metadata": {
      "needs_background": "light"
     },
     "output_type": "display_data"
    }
   ],
   "source": [
    "dist.plot.bar()\n",
    "plt.title(\"Category Distribution\")"
   ]
  },
  {
   "cell_type": "markdown",
   "metadata": {},
   "source": [
    "## Data Preparation\n",
    "\n",
    "The data from mailout_train will be treated the following way:\n",
    "1. Data preprocessing steps defined in previous notebooks:\n",
    "   * Data cleaning\n",
    "   * Data scaling\n",
    "2. Get principal components through PCA analysis.\n",
    "3. Fix imbalanced classes with the SMOTE technique. This technique oversamples classes with a low count by creating synthetic samples."
   ]
  },
  {
   "cell_type": "code",
   "execution_count": 5,
   "metadata": {},
   "outputs": [],
   "source": [
    "from sklearn.model_selection import train_test_split, GridSearchCV\n",
    "from sklearn.pipeline import Pipeline\n",
    "from sklearn.metrics import accuracy_score\n",
    "from sklearn.metrics import roc_auc_score\n",
    "from sklearn.ensemble import RandomForestClassifier, GradientBoostingClassifier, AdaBoostClassifier\n",
    "from sklearn.metrics import classification_report"
   ]
  },
  {
   "cell_type": "markdown",
   "metadata": {},
   "source": [
    "#### Data Preprocessing"
   ]
  },
  {
   "cell_type": "code",
   "execution_count": 6,
   "metadata": {},
   "outputs": [
    {
     "name": "stdout",
     "output_type": "stream",
     "text": [
      "Old Dataframe Shape: (42962, 367)\n",
      "\n",
      "Succesfully removed 62 columns!\n",
      "BIP_FLAG was not found in the DF\n",
      "CAMEO_DEUINTL_2015 was not found in the DF\n",
      "D19_KK_KUNDENTYP was not found in the DF\n",
      "GEOSCORE_KLS7 was not found in the DF\n",
      "GEOSCORE_KLS7 was not found in the DF\n",
      "HAUSHALTSSTRUKTUR was not found in the DF\n",
      "HAUSHALTSSTRUKTUR was not found in the DF\n",
      "KBA13_CCM_1400_2500 was not found in the DF\n",
      "OST_WEST_KZ was not found in the DF\n",
      "SOHO_FLAG was not found in the DF\n",
      "WACHSTUMSGEBIET_NB was not found in the DF\n",
      "WACHSTUMSGEBIET_NB was not found in the DF\n",
      "The columns below threshold: ['TITEL_KZ'] were removed.\n"
     ]
    }
   ],
   "source": [
    "y = mailout_train['RESPONSE']\n",
    "\n",
    "# Preprocess data\n",
    "X = data_preprocessing(mailout_train)"
   ]
  },
  {
   "cell_type": "markdown",
   "metadata": {},
   "source": [
    "#### Principal Component Analysis"
   ]
  },
  {
   "cell_type": "code",
   "execution_count": 7,
   "metadata": {},
   "outputs": [
    {
     "name": "stdout",
     "output_type": "stream",
     "text": [
      "Variance Explained by all 101 principal components:  0.7050989870534948\n"
     ]
    }
   ],
   "source": [
    "# Get Principal Components \n",
    "\n",
    "X, X_pca = principal_components(X)"
   ]
  },
  {
   "cell_type": "markdown",
   "metadata": {},
   "source": [
    "#### Imbalance Classes Correction\n",
    "\n",
    "There are different techniques for solving the imbalance problem. Synthetic Minority Oversampling Technique (SMOTE) will be applied. This technique creates synthetic samples from low count classes."
   ]
  },
  {
   "cell_type": "code",
   "execution_count": 8,
   "metadata": {},
   "outputs": [],
   "source": [
    "# Apply SMOTE to de data\n",
    "\n",
    "sm = SMOTE(random_state=42, )\n",
    "X, y = sm.fit_sample(X, y)"
   ]
  },
  {
   "cell_type": "markdown",
   "metadata": {},
   "source": [
    "#### Split data into training and test data"
   ]
  },
  {
   "cell_type": "code",
   "execution_count": 9,
   "metadata": {},
   "outputs": [],
   "source": [
    "X_train, X_test, y_train, y_test = train_test_split(X, y, test_size=0.33, random_state=42)"
   ]
  },
  {
   "cell_type": "markdown",
   "metadata": {},
   "source": [
    "## Model Testing\n",
    "\n",
    "Three models will be tested for predicting if the person will become a customer:\n",
    "1. Gradient Boosting\n",
    "2. Random Forest\n",
    "3. Ada Boost\n",
    "\n",
    "### Metric\n",
    "\n",
    "The main metric to use will be the ROC, since it is good at ranking predictions, while accuracy just how many observations were correctly classified."
   ]
  },
  {
   "cell_type": "markdown",
   "metadata": {},
   "source": [
    "### Gradient Boosting\n",
    "\n",
    "Scores:\n",
    "1. **ROC Area Under the Curce is of 88.69%**\n",
    "2. Overall Accuracy is of 88.69%"
   ]
  },
  {
   "cell_type": "code",
   "execution_count": 30,
   "metadata": {},
   "outputs": [
    {
     "data": {
      "text/plain": [
       "{'memory': None,\n",
       " 'steps': [('gb', GradientBoostingClassifier())],\n",
       " 'verbose': False,\n",
       " 'gb': GradientBoostingClassifier(),\n",
       " 'gb__ccp_alpha': 0.0,\n",
       " 'gb__criterion': 'friedman_mse',\n",
       " 'gb__init': None,\n",
       " 'gb__learning_rate': 0.1,\n",
       " 'gb__loss': 'deviance',\n",
       " 'gb__max_depth': 3,\n",
       " 'gb__max_features': None,\n",
       " 'gb__max_leaf_nodes': None,\n",
       " 'gb__min_impurity_decrease': 0.0,\n",
       " 'gb__min_impurity_split': None,\n",
       " 'gb__min_samples_leaf': 1,\n",
       " 'gb__min_samples_split': 2,\n",
       " 'gb__min_weight_fraction_leaf': 0.0,\n",
       " 'gb__n_estimators': 100,\n",
       " 'gb__n_iter_no_change': None,\n",
       " 'gb__presort': 'deprecated',\n",
       " 'gb__random_state': None,\n",
       " 'gb__subsample': 1.0,\n",
       " 'gb__tol': 0.0001,\n",
       " 'gb__validation_fraction': 0.1,\n",
       " 'gb__verbose': 0,\n",
       " 'gb__warm_start': False}"
      ]
     },
     "execution_count": 30,
     "metadata": {},
     "output_type": "execute_result"
    }
   ],
   "source": [
    "# Generate pipeline to test different parameters\n",
    "pipeline = Pipeline([('gb', GradientBoostingClassifier())])\n",
    "pipeline.get_params()"
   ]
  },
  {
   "cell_type": "code",
   "execution_count": 11,
   "metadata": {},
   "outputs": [
    {
     "name": "stdout",
     "output_type": "stream",
     "text": [
      "--- 1818.7994759082794 seconds ---\n"
     ]
    }
   ],
   "source": [
    "# Parameters definition\n",
    "\n",
    "parameters = {\n",
    "    'gb__max_depth': range(3,5),\n",
    "    'gb__random_state': [42]\n",
    "}\n",
    "\n",
    "# Gridsearch to test the parameters defined before.\n",
    "\n",
    "cv = GridSearchCV(pipeline, param_grid=parameters)\n",
    "\n",
    "start_time = time.time()\n",
    "\n",
    "# Fit the model with the training data\n",
    "\n",
    "cv.fit(X_train, y_train)\n",
    "\n",
    "print(\"--- %s seconds ---\" % (time.time() - start_time))"
   ]
  },
  {
   "cell_type": "code",
   "execution_count": 12,
   "metadata": {},
   "outputs": [
    {
     "name": "stdout",
     "output_type": "stream",
     "text": [
      "{'gb__max_depth': 4, 'gb__random_state': 42} \n",
      "\n",
      "Pipeline(steps=[('gb',\n",
      "                 GradientBoostingClassifier(max_depth=4, random_state=42))]) \n",
      "\n",
      "0.8828970760819658\n",
      "0.8869447221825454\n",
      "0.8869169912135607\n"
     ]
    }
   ],
   "source": [
    "# Get the best parameters\n",
    "print(cv.best_params_,'\\n')\n",
    "\n",
    "# Get the best estimator\n",
    "print(cv.best_estimator_,'\\n')\n",
    "\n",
    "# Get the best score\n",
    "print(cv.best_score_)\n",
    "\n",
    "# Predict with the best parameters\n",
    "best_model = cv.best_estimator_\n",
    "y_pred = best_model.predict(X_test)\n",
    "\n",
    "# Print the overall Accuracy score\n",
    "print(accuracy_score(y_test, y_pred))\n",
    "\n",
    "# Print the ROC AUC score\n",
    "print(roc_auc_score(y_test, y_pred))"
   ]
  },
  {
   "cell_type": "code",
   "execution_count": 13,
   "metadata": {},
   "outputs": [
    {
     "name": "stdout",
     "output_type": "stream",
     "text": [
      "              precision    recall  f1-score   support\n",
      "\n",
      "           0       0.90      0.87      0.88     13983\n",
      "           1       0.87      0.91      0.89     14021\n",
      "\n",
      "    accuracy                           0.89     28004\n",
      "   macro avg       0.89      0.89      0.89     28004\n",
      "weighted avg       0.89      0.89      0.89     28004\n",
      "\n"
     ]
    }
   ],
   "source": [
    "# Print classification report\n",
    "print(classification_report(y_test, y_pred))"
   ]
  },
  {
   "cell_type": "markdown",
   "metadata": {},
   "source": [
    "### Random Forest\n",
    "\n",
    "Scores:\n",
    "1. **ROC Area Under the Curce is of 94.59%**\n",
    "2. Overall Accuracy is of 94.59%"
   ]
  },
  {
   "cell_type": "code",
   "execution_count": 19,
   "metadata": {},
   "outputs": [
    {
     "data": {
      "text/plain": [
       "{'memory': None,\n",
       " 'steps': [('rf', RandomForestClassifier())],\n",
       " 'verbose': False,\n",
       " 'rf': RandomForestClassifier(),\n",
       " 'rf__bootstrap': True,\n",
       " 'rf__ccp_alpha': 0.0,\n",
       " 'rf__class_weight': None,\n",
       " 'rf__criterion': 'gini',\n",
       " 'rf__max_depth': None,\n",
       " 'rf__max_features': 'auto',\n",
       " 'rf__max_leaf_nodes': None,\n",
       " 'rf__max_samples': None,\n",
       " 'rf__min_impurity_decrease': 0.0,\n",
       " 'rf__min_impurity_split': None,\n",
       " 'rf__min_samples_leaf': 1,\n",
       " 'rf__min_samples_split': 2,\n",
       " 'rf__min_weight_fraction_leaf': 0.0,\n",
       " 'rf__n_estimators': 100,\n",
       " 'rf__n_jobs': None,\n",
       " 'rf__oob_score': False,\n",
       " 'rf__random_state': None,\n",
       " 'rf__verbose': 0,\n",
       " 'rf__warm_start': False}"
      ]
     },
     "execution_count": 19,
     "metadata": {},
     "output_type": "execute_result"
    }
   ],
   "source": [
    "pipeline = Pipeline([('rf', RandomForestClassifier())])\n",
    "pipeline.get_params()"
   ]
  },
  {
   "cell_type": "code",
   "execution_count": 20,
   "metadata": {},
   "outputs": [
    {
     "name": "stdout",
     "output_type": "stream",
     "text": [
      "--- 1303.576448917389 seconds ---\n"
     ]
    }
   ],
   "source": [
    "# Parameters definition\n",
    "\n",
    "parameters = {\n",
    "    'rf__min_samples_leaf': [1, 2],\n",
    "    'rf__min_samples_split': [2, 5],\n",
    "    'rf__n_estimators': [100]\n",
    "}\n",
    "\n",
    "# Gridsearch to test the parameters defined before.\n",
    "\n",
    "cv = GridSearchCV(pipeline, param_grid=parameters)\n",
    "\n",
    "start_time = time.time()\n",
    "\n",
    "# Fit the model with the training data\n",
    "\n",
    "cv.fit(X_train, y_train)\n",
    "\n",
    "print(\"--- %s seconds ---\" % (time.time() - start_time))"
   ]
  },
  {
   "cell_type": "code",
   "execution_count": 21,
   "metadata": {},
   "outputs": [
    {
     "name": "stdout",
     "output_type": "stream",
     "text": [
      "{'rf__min_samples_leaf': 1, 'rf__min_samples_split': 2, 'rf__n_estimators': 100} \n",
      "\n",
      "Pipeline(steps=[('rf', RandomForestClassifier())]) \n",
      "\n",
      "0.9449486049958373\n",
      "0.9459005856306242\n",
      "0.9459350348819086\n"
     ]
    }
   ],
   "source": [
    "# Get the best parameters\n",
    "print(cv.best_params_,'\\n')\n",
    "\n",
    "# Get the best estimator\n",
    "print(cv.best_estimator_,'\\n')\n",
    "\n",
    "# Get the best score\n",
    "print(cv.best_score_)\n",
    "\n",
    "# Predict with the best parameters\n",
    "best_model = cv.best_estimator_\n",
    "y_pred = best_model.predict(X_test)\n",
    "\n",
    "# Print the overall Accuracy score\n",
    "print(accuracy_score(y_test, y_pred))\n",
    "\n",
    "# Print the ROC AUC score\n",
    "print(roc_auc_score(y_test, y_pred))"
   ]
  },
  {
   "cell_type": "code",
   "execution_count": 22,
   "metadata": {},
   "outputs": [
    {
     "name": "stdout",
     "output_type": "stream",
     "text": [
      "              precision    recall  f1-score   support\n",
      "\n",
      "           0       0.92      0.97      0.95     13983\n",
      "           1       0.97      0.92      0.94     14021\n",
      "\n",
      "    accuracy                           0.95     28004\n",
      "   macro avg       0.95      0.95      0.95     28004\n",
      "weighted avg       0.95      0.95      0.95     28004\n",
      "\n"
     ]
    }
   ],
   "source": [
    "# Print classification report\n",
    "print(classification_report(y_test, y_pred))"
   ]
  },
  {
   "cell_type": "markdown",
   "metadata": {},
   "source": [
    "### Ada Boost Classifier\n",
    "\n",
    "Scores:\n",
    "1. **ROC Area Under the Curce is of 76.98%**\n",
    "2. Overall Accuracy is of 76.99%"
   ]
  },
  {
   "cell_type": "code",
   "execution_count": 23,
   "metadata": {},
   "outputs": [
    {
     "data": {
      "text/plain": [
       "{'memory': None,\n",
       " 'steps': [('ab', AdaBoostClassifier())],\n",
       " 'verbose': False,\n",
       " 'ab': AdaBoostClassifier(),\n",
       " 'ab__algorithm': 'SAMME.R',\n",
       " 'ab__base_estimator': None,\n",
       " 'ab__learning_rate': 1.0,\n",
       " 'ab__n_estimators': 50,\n",
       " 'ab__random_state': None}"
      ]
     },
     "execution_count": 23,
     "metadata": {},
     "output_type": "execute_result"
    }
   ],
   "source": [
    "pipeline = Pipeline([('ab', AdaBoostClassifier())])\n",
    "pipeline.get_params()"
   ]
  },
  {
   "cell_type": "code",
   "execution_count": 24,
   "metadata": {},
   "outputs": [
    {
     "name": "stdout",
     "output_type": "stream",
     "text": [
      "--- 563.7925889492035 seconds ---\n"
     ]
    }
   ],
   "source": [
    "# Parameters definition\n",
    "\n",
    "parameters = {\n",
    "    'ab__n_estimators': [50,60,70],\n",
    "    'ab__random_state': [42]\n",
    "}\n",
    "\n",
    "# Gridsearch to test the parameters defined before.\n",
    "\n",
    "cv = GridSearchCV(pipeline, param_grid=parameters)\n",
    "\n",
    "start_time = time.time()\n",
    "\n",
    "# Fit the model with the training data\n",
    "\n",
    "cv.fit(X_train, y_train)\n",
    "\n",
    "print(\"--- %s seconds ---\" % (time.time() - start_time))"
   ]
  },
  {
   "cell_type": "code",
   "execution_count": 25,
   "metadata": {},
   "outputs": [
    {
     "name": "stdout",
     "output_type": "stream",
     "text": [
      "{'ab__n_estimators': 70, 'ab__random_state': 42} \n",
      "\n",
      "Pipeline(steps=[('ab', AdaBoostClassifier(n_estimators=70, random_state=42))]) \n",
      "\n",
      "0.7740959493844191\n",
      "0.7698543065276389\n",
      "0.7698167172877549\n"
     ]
    }
   ],
   "source": [
    "# Get the best parameters\n",
    "print(cv.best_params_,'\\n')\n",
    "\n",
    "# Get the best estimator\n",
    "print(cv.best_estimator_,'\\n')\n",
    "\n",
    "# Get the best score\n",
    "print(cv.best_score_)\n",
    "\n",
    "# Predict with the best parameters\n",
    "best_model = cv.best_estimator_\n",
    "y_pred = best_model.predict(X_test)\n",
    "\n",
    "# Print the overall Accuracy score\n",
    "print(accuracy_score(y_test, y_pred))\n",
    "\n",
    "# Print the ROC AUC score\n",
    "print(roc_auc_score(y_test, y_pred))"
   ]
  },
  {
   "cell_type": "code",
   "execution_count": 26,
   "metadata": {},
   "outputs": [
    {
     "name": "stdout",
     "output_type": "stream",
     "text": [
      "              precision    recall  f1-score   support\n",
      "\n",
      "           0       0.79      0.74      0.76     13983\n",
      "           1       0.76      0.80      0.78     14021\n",
      "\n",
      "    accuracy                           0.77     28004\n",
      "   macro avg       0.77      0.77      0.77     28004\n",
      "weighted avg       0.77      0.77      0.77     28004\n",
      "\n"
     ]
    }
   ],
   "source": [
    "# Print classification report\n",
    "print(classification_report(y_test, y_pred))"
   ]
  },
  {
   "cell_type": "markdown",
   "metadata": {},
   "source": [
    "## Final Model\n",
    "\n",
    "Random Forest is chosen as the final model, since it has the greatest ROC AUC score."
   ]
  },
  {
   "cell_type": "code",
   "execution_count": 33,
   "metadata": {},
   "outputs": [
    {
     "data": {
      "text/plain": [
       "['model.joblib']"
      ]
     },
     "execution_count": 33,
     "metadata": {},
     "output_type": "execute_result"
    }
   ],
   "source": [
    "model = RandomForestClassifier(min_samples_leaf=1, min_samples_split=2, n_estimators= 100, random_state= 42)\n",
    "model.fit(X_train, y_train)\n",
    "\n",
    "dump(model, 'model.joblib') "
   ]
  },
  {
   "cell_type": "markdown",
   "metadata": {},
   "source": [
    "## Part 3: Kaggle Competition\n",
    "\n",
    "Now that you've created a model to predict which individuals are most likely to respond to a mailout campaign, it's time to test that model in competition through Kaggle. If you click on the link [here](http://www.kaggle.com/t/21e6d45d4c574c7fa2d868f0e8c83140), you'll be taken to the competition page where, if you have a Kaggle account, you can enter. If you're one of the top performers, you may have the chance to be contacted by a hiring manager from Arvato or Bertelsmann for an interview!\n",
    "\n",
    "Your entry to the competition should be a CSV file with two columns. The first column should be a copy of \"LNR\", which acts as an ID number for each individual in the \"TEST\" partition. The second column, \"RESPONSE\", should be some measure of how likely each individual became a customer – this might not be a straightforward probability. As you should have found in Part 2, there is a large output class imbalance, where most individuals did not respond to the mailout. Thus, predicting individual classes and using accuracy does not seem to be an appropriate performance evaluation method. Instead, the competition will be using AUC to evaluate performance. The exact values of the \"RESPONSE\" column do not matter as much: only that the higher values try to capture as many of the actual customers as possible, early in the ROC curve sweep."
   ]
  },
  {
   "cell_type": "code",
   "execution_count": 44,
   "metadata": {},
   "outputs": [],
   "source": [
    "# Load Model\n",
    "model = load('model.joblib') "
   ]
  },
  {
   "cell_type": "code",
   "execution_count": 38,
   "metadata": {},
   "outputs": [],
   "source": [
    "# Load data to be predicted\n",
    "mailout_test = pd.read_csv('../files/Udacity_MAILOUT_052018_TEST.csv', sep=';', dtype=object)"
   ]
  },
  {
   "cell_type": "code",
   "execution_count": 39,
   "metadata": {},
   "outputs": [
    {
     "name": "stdout",
     "output_type": "stream",
     "text": [
      "Old Dataframe Shape: (42833, 366)\n",
      "\n",
      "Succesfully removed 61 columns!\n",
      "BIP_FLAG was not found in the DF\n",
      "CAMEO_DEUINTL_2015 was not found in the DF\n",
      "D19_KK_KUNDENTYP was not found in the DF\n",
      "GEOSCORE_KLS7 was not found in the DF\n",
      "GEOSCORE_KLS7 was not found in the DF\n",
      "HAUSHALTSSTRUKTUR was not found in the DF\n",
      "HAUSHALTSSTRUKTUR was not found in the DF\n",
      "KBA13_CCM_1400_2500 was not found in the DF\n",
      "OST_WEST_KZ was not found in the DF\n",
      "SOHO_FLAG was not found in the DF\n",
      "WACHSTUMSGEBIET_NB was not found in the DF\n",
      "WACHSTUMSGEBIET_NB was not found in the DF\n",
      "The columns below threshold: ['TITEL_KZ'] were removed.\n",
      "Variance Explained by all 101 principal components:  0.7046784203442937\n"
     ]
    }
   ],
   "source": [
    "# Clean data and apply PCA\n",
    "X = data_preprocessing(mailout_test)\n",
    "X, X_pca = principal_components(X)"
   ]
  },
  {
   "cell_type": "code",
   "execution_count": 40,
   "metadata": {},
   "outputs": [],
   "source": [
    "# Predict values\n",
    "y_pred = model.predict(X)"
   ]
  },
  {
   "cell_type": "code",
   "execution_count": 41,
   "metadata": {},
   "outputs": [],
   "source": [
    "# Prepare file for Kaggle competition\n",
    "final_kaggle = pd.DataFrame()\n",
    "final_kaggle['LNR'] = mailout_test['LNR']\n",
    "final_kaggle['RESPONSE'] = y_pred"
   ]
  },
  {
   "cell_type": "code",
   "execution_count": 42,
   "metadata": {},
   "outputs": [],
   "source": [
    "final_kaggle.to_csv(\"final_submission.csv\", index=False)"
   ]
  },
  {
   "cell_type": "code",
   "execution_count": null,
   "metadata": {},
   "outputs": [],
   "source": []
  }
 ],
 "metadata": {
  "kernelspec": {
   "display_name": "Python 3",
   "language": "python",
   "name": "python3"
  },
  "language_info": {
   "codemirror_mode": {
    "name": "ipython",
    "version": 3
   },
   "file_extension": ".py",
   "mimetype": "text/x-python",
   "name": "python",
   "nbconvert_exporter": "python",
   "pygments_lexer": "ipython3",
   "version": "3.8.2"
  }
 },
 "nbformat": 4,
 "nbformat_minor": 2
}
